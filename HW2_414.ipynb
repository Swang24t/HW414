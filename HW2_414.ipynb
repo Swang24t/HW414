{
 "cells": [
  {
   "cell_type": "code",
   "execution_count": 266,
   "metadata": {},
   "outputs": [],
   "source": [
    "s='edsgickxhuklzveqzvkxwkzukcvuh'\n",
    "\n",
    "import matplotlib.pyplot as plt"
   ]
  },
  {
   "cell_type": "code",
   "execution_count": 29,
   "metadata": {},
   "outputs": [],
   "source": [
    "a_in=3\n",
    "b=10\n",
    "baseI=ord('a')\n",
    "res=''"
   ]
  },
  {
   "cell_type": "code",
   "execution_count": 30,
   "metadata": {},
   "outputs": [
    {
     "name": "stdout",
     "output_type": "stream",
     "text": [
      "8\n",
      "5\n",
      "24\n",
      "14\n",
      "20\n",
      "2\n",
      "0\n",
      "13\n",
      "17\n",
      "4\n",
      "0\n",
      "3\n",
      "19\n",
      "7\n",
      "8\n",
      "18\n",
      "19\n",
      "7\n",
      "0\n",
      "13\n",
      "10\n",
      "0\n",
      "19\n",
      "4\n",
      "0\n",
      "2\n",
      "7\n",
      "4\n",
      "17\n"
     ]
    }
   ],
   "source": [
    "for chars in s:\n",
    "    num=ord(chars)-baseI\n",
    "    inverted=((num-b)*a_in)%26\n",
    "#     print(inverted)\n",
    "    res+=(chr(inverted+baseI))"
   ]
  },
  {
   "cell_type": "code",
   "execution_count": 31,
   "metadata": {},
   "outputs": [
    {
     "name": "stdout",
     "output_type": "stream",
     "text": [
      "ifyoucanreadthisthankateacher\n"
     ]
    }
   ],
   "source": [
    "print(res)"
   ]
  },
  {
   "cell_type": "code",
   "execution_count": 32,
   "metadata": {},
   "outputs": [
    {
     "data": {
      "text/plain": [
       "'\\x08'"
      ]
     },
     "execution_count": 32,
     "metadata": {},
     "output_type": "execute_result"
    }
   ],
   "source": [
    "chr(8)"
   ]
  },
  {
   "cell_type": "code",
   "execution_count": 2,
   "metadata": {},
   "outputs": [],
   "source": [
    "CiPHER='KCCPKBGUFDPHQTYAVINRRTMVGRKDNBVFDETDGILTXRGUD'\n",
    "CiPHER+='DKOTFMBPVGEGLTGCKQRACQCWDNAWCRXIZAKFTLEWRPTYC'\n",
    "CiPHER+='QKYVXCHKFTPONCQQRHJVAJUWETMCMSPKQDYHJVDAHCTRL'\n",
    "CiPHER+=\"SVSKCGZQQDZXGSFRLSWCWSJTBHAFSIASPRJAHKJRJUMV\"\n",
    "CiPHER+=\"GKMITZHFPDISPZLVLGWTFPLKKEBDPGCEBSHCTJRWXBAFS\"\n",
    "CiPHER+=\"PEZQNRWXCVYCGAONWDDKACKAWBBIKFTIOVKCGGHJVLNHI\"\n",
    "CiPHER+=\"FFSQESVYCLACNVRWBBIREPBBVFEXOSCDYGZWPFDTKFQIY\"\n",
    "CiPHER+=\"CWHJVLNHIQIBTKHJVNPIST\""
   ]
  },
  {
   "cell_type": "code",
   "execution_count": 3,
   "metadata": {},
   "outputs": [],
   "source": [
    "fre=[0]*26\n"
   ]
  },
  {
   "cell_type": "code",
   "execution_count": 33,
   "metadata": {},
   "outputs": [],
   "source": [
    "baseI=ord('A')\n",
    "# for i in range(len(CiPHER)):\n",
    "#     fre[CiPHER[i]]\n",
    "\n",
    "for i in CiPHER:\n",
    "    fre[ord(i)-baseI]+=1"
   ]
  },
  {
   "cell_type": "code",
   "execution_count": 194,
   "metadata": {},
   "outputs": [],
   "source": [
    "frequen=[0]*26\n",
    "N=len(CiPHER)"
   ]
  },
  {
   "cell_type": "code",
   "execution_count": 6,
   "metadata": {},
   "outputs": [],
   "source": [
    "for i in range(26):\n",
    "    frequen[i]=fre[i]/N"
   ]
  },
  {
   "cell_type": "code",
   "execution_count": 7,
   "metadata": {},
   "outputs": [
    {
     "data": {
      "text/plain": [
       "2"
      ]
     },
     "execution_count": 7,
     "metadata": {},
     "output_type": "execute_result"
    }
   ],
   "source": [
    "\n",
    "frequen.index(max(frequen))"
   ]
  },
  {
   "cell_type": "code",
   "execution_count": 195,
   "metadata": {},
   "outputs": [
    {
     "data": {
      "text/plain": [
       "336"
      ]
     },
     "execution_count": 195,
     "metadata": {},
     "output_type": "execute_result"
    }
   ],
   "source": [
    "len(CiPHER)"
   ]
  },
  {
   "cell_type": "code",
   "execution_count": null,
   "metadata": {},
   "outputs": [],
   "source": []
  },
  {
   "cell_type": "code",
   "execution_count": 9,
   "metadata": {},
   "outputs": [
    {
     "name": "stdout",
     "output_type": "stream",
     "text": [
      "KCCPKBGUFDPHQTYAVINRRTMVGRKDNBVFDETDGILTXRGUDDKOTFMBPVGEGLTGCKQRACQCWDNAWCRXIZAKFTLEWRPTYCQKYVXCHKFTPONCQQRHJVAJUWETMCMSPKQDYHJVDAHCTRLSVSKCGZQQDZXGSFRLSWCWSJTBHAFSIASPRJAHKJRJUMVGKMITZHFPDISPZLVLGWTFPLKKEBDPGCEBSHCTJRWXBAFSPEZQNRWXCVYCGAONWDDKACKAWBBIKFTIOVKCGGHJVLNHIFFSQESVYCLACNVRWBBIREPBBVFEXOSCDYGZWPFDTKFQIYCWHJVLNHIQIBTKHJVNPIST\n"
     ]
    }
   ],
   "source": [
    "print(CiPHER)"
   ]
  },
  {
   "cell_type": "code",
   "execution_count": 14,
   "metadata": {},
   "outputs": [
    {
     "name": "stdout",
     "output_type": "stream",
     "text": [
      "233\n",
      "275\n"
     ]
    }
   ],
   "source": [
    "for i in range(len(CiPHER)):\n",
    "    if CiPHER[i:i+3]==\"VYC\":\n",
    "        print(i)"
   ]
  },
  {
   "cell_type": "code",
   "execution_count": 20,
   "metadata": {},
   "outputs": [
    {
     "data": {
      "text/plain": [
       "336"
      ]
     },
     "execution_count": 20,
     "metadata": {},
     "output_type": "execute_result"
    }
   ],
   "source": [
    "len(CiPHER)"
   ]
  },
  {
   "cell_type": "code",
   "execution_count": 132,
   "metadata": {},
   "outputs": [],
   "source": [
    "def GetSubstring(i,m,ciphertext):\n",
    "    '''\n",
    "    m is the distance \n",
    "    i is the start point\n",
    "    '''\n",
    "    subString=''\n",
    "    a =[0]*26\n",
    "    startPoint=i;\n",
    "    for q in range(len(ciphertext)//m):\n",
    "       \n",
    "        subString = subString+ciphertext[startPoint+q*m]\n",
    "    if (startPoint+q*m+m)<=len(ciphertext)-1:\n",
    "        subString+=ciphertext[startPoint+q*m+m]\n",
    "    return subString"
   ]
  },
  {
   "cell_type": "code",
   "execution_count": 165,
   "metadata": {},
   "outputs": [],
   "source": [
    "def GetFreCount(ciphertext):\n",
    "    freCount=[0]*26\n",
    "    frequenValue=[0]*26\n",
    "    CycFre=0\n",
    "    N=len(ciphertext)\n",
    "    for j in ciphertext:\n",
    "        freCount[ord(j)-baseI]+=1\n",
    "    for k in range(26):\n",
    "        frequenValue[k]=freCount[k]/N\n",
    "    for q in frequenValue:\n",
    "        CycFre+=q*q\n",
    "    return freCount,frequenValue,CycFre"
   ]
  },
  {
   "cell_type": "code",
   "execution_count": 238,
   "metadata": {},
   "outputs": [],
   "source": [
    "def Autodistribution(m,ciphertext):\n",
    "    listString=[]\n",
    "    \n",
    "    for i in range(m):\n",
    "        String=GetSubstring(i,m,ciphertext)\n",
    "        listString.append(String)\n",
    "        print(String)\n",
    "        \n",
    "        [a,b,c]=GetFreCount(String)\n",
    "#         freCount=[0]*26\n",
    "#         frequenValue=[0]*26\n",
    "#         CycFre=0\n",
    "#         N=len(String)\n",
    "\n",
    "#         for j in String:\n",
    "#             freCount[ord(j)-baseI]+=1\n",
    "#         for k in range(26):\n",
    "#             frequenValue[k]=freCount[k]/N\n",
    "        \n",
    "#         for q in frequenValue:\n",
    "#             CycFre+=q*q\n",
    "#         print(freCount)\n",
    "#         print(frequenValue)\n",
    "#         print(CycFre)\n",
    "#         print(c)\n",
    "#     return freCount,frequenValue\n",
    "    return listString"
   ]
  },
  {
   "cell_type": "code",
   "execution_count": 268,
   "metadata": {},
   "outputs": [
    {
     "name": "stdout",
     "output_type": "stream",
     "text": [
      "[0.08928571428571429, 0.08928571428571429, 0.017857142857142856, 0.08928571428571429, 0.05357142857142857, 0.0, 0.03571428571428571, 0.07142857142857142, 0.05357142857142857, 0.017857142857142856, 0.05357142857142857, 0.05357142857142857, 0.017857142857142856, 0.0, 0.017857142857142856, 0.03571428571428571, 0.017857142857142856, 0.017857142857142856, 0.017857142857142856, 0.10714285714285714, 0.0, 0.017857142857142856, 0.03571428571428571, 0.05357142857142857, 0.0, 0.03571428571428571]\n"
     ]
    },
    {
     "data": {
      "text/plain": [
       "[<matplotlib.lines.Line2D at 0x11125c9e8>]"
      ]
     },
     "execution_count": 268,
     "metadata": {},
     "output_type": "execute_result"
    },
    {
     "data": {
      "image/png": "[encoded data removed]",
      "text/plain": [
       "<Figure size 432x288 with 1 Axes>"
      ]
     },
     "metadata": {
      "needs_background": "light"
     },
     "output_type": "display_data"
    }
   ],
   "source": [
    "\n",
    "[a,b,c]=GetFreCount(L1[3])\n",
    "print(b)\n",
    "b.index(max(b))\n",
    "\n",
    "plt.figure()\n",
    "plt.plot(range(26),b)"
   ]
  },
  {
   "cell_type": "code",
   "execution_count": 244,
   "metadata": {},
   "outputs": [
    {
     "name": "stdout",
     "output_type": "stream",
     "text": [
      "[0.017857142857142856, 0.0, 0.017857142857142856, 0.03571428571428571, 0.05357142857142857, 0.10714285714285714, 0.08928571428571429, 0.017857142857142856, 0.03571428571428571, 0.05357142857142857, 0.10714285714285714, 0.0, 0.0, 0.05357142857142857, 0.0, 0.017857142857142856, 0.05357142857142857, 0.07142857142857142, 0.017857142857142856, 0.05357142857142857, 0.0, 0.08928571428571429, 0.05357142857142857, 0.0, 0.03571428571428571, 0.017857142857142856]\n",
      "[2, 0, 0, 0, 0, 0]\n",
      "[0.017857142857142856, 0.05357142857142857, 0.14285714285714285, 0.03571428571428571, 0.05357142857142857, 0.07142857142857142, 0.0, 0.0, 0.017857142857142856, 0.05357142857142857, 0.08928571428571429, 0.07142857142857142, 0.017857142857142856, 0.017857142857142856, 0.0, 0.017857142857142856, 0.0, 0.125, 0.05357142857142857, 0.03571428571428571, 0.03571428571428571, 0.03571428571428571, 0.0, 0.0, 0.03571428571428571, 0.017857142857142856]\n",
      "[2, -1, 0, 0, 0, 0]\n",
      "[0.03571428571428571, 0.0, 0.03571428571428571, 0.10714285714285714, 0.0, 0.05357142857142857, 0.08928571428571429, 0.0, 0.03571428571428571, 0.0, 0.017857142857142856, 0.05357142857142857, 0.03571428571428571, 0.03571428571428571, 0.0, 0.08928571428571429, 0.07142857142857142, 0.03571428571428571, 0.03571428571428571, 0.07142857142857142, 0.017857142857142856, 0.017857142857142856, 0.08928571428571429, 0.03571428571428571, 0.03571428571428571, 0.0]\n",
      "[2, -1, 0, 0, 0, 0]\n",
      "[0.08928571428571429, 0.08928571428571429, 0.017857142857142856, 0.08928571428571429, 0.05357142857142857, 0.0, 0.03571428571428571, 0.07142857142857142, 0.05357142857142857, 0.017857142857142856, 0.05357142857142857, 0.05357142857142857, 0.017857142857142856, 0.0, 0.017857142857142856, 0.03571428571428571, 0.017857142857142856, 0.017857142857142856, 0.017857142857142856, 0.10714285714285714, 0.0, 0.017857142857142856, 0.03571428571428571, 0.05357142857142857, 0.0, 0.03571428571428571]\n",
      "[2, -1, 0, 16, 0, 0]\n",
      "[0.03571428571428571, 0.07142857142857142, 0.07142857142857142, 0.0, 0.0, 0.017857142857142856, 0.03571428571428571, 0.08928571428571429, 0.05357142857142857, 0.0, 0.07142857142857142, 0.017857142857142856, 0.03571428571428571, 0.03571428571428571, 0.03571428571428571, 0.05357142857142857, 0.017857142857142856, 0.017857142857142856, 0.10714285714285714, 0.03571428571428571, 0.017857142857142856, 0.05357142857142857, 0.017857142857142856, 0.03571428571428571, 0.03571428571428571, 0.03571428571428571]\n",
      "[2, -1, 0, 16, 15, 0]\n",
      "[0.05357142857142857, 0.03571428571428571, 0.125, 0.017857142857142856, 0.017857142857142856, 0.03571428571428571, 0.03571428571428571, 0.07142857142857142, 0.05357142857142857, 0.07142857142857142, 0.017857142857142856, 0.0, 0.0, 0.03571428571428571, 0.03571428571428571, 0.05357142857142857, 0.07142857142857142, 0.017857142857142856, 0.03571428571428571, 0.03571428571428571, 0.0, 0.10714285714285714, 0.05357142857142857, 0.0, 0.0, 0.017857142857142856]\n",
      "[2, -1, 0, 16, 15, -1]\n"
     ]
    }
   ],
   "source": [
    "N=len(L1)\n",
    "res =''\n",
    "K=[0]*N\n",
    "for i in range(N):\n",
    "    \n",
    "    [a,b,c]=GetFreCount(L1[i])\n",
    "    NewPositionC=int(b.index(max(b)))\n",
    "    print(b)\n",
    "    K[i]=NewPositionC-3\n",
    "    print(K)\n"
   ]
  },
  {
   "cell_type": "code",
   "execution_count": 264,
   "metadata": {},
   "outputs": [
    {
     "name": "stdout",
     "output_type": "stream",
     "text": [
      "[0.08928571428571429, 0.08928571428571429, 0.017857142857142856, 0.08928571428571429, 0.05357142857142857, 0.0, 0.03571428571428571, 0.07142857142857142, 0.05357142857142857, 0.017857142857142856, 0.05357142857142857, 0.05357142857142857, 0.017857142857142856, 0.0, 0.017857142857142856, 0.03571428571428571, 0.017857142857142856, 0.017857142857142856, 0.017857142857142856, 0.10714285714285714, 0.0, 0.017857142857142856, 0.03571428571428571, 0.05357142857142857, 0.0, 0.03571428571428571]\n"
     ]
    }
   ],
   "source": [
    "[a,b,c]=GetFreCount(L1[3])\n",
    "print(b)\n",
    "K[3]=0"
   ]
  },
  {
   "cell_type": "code",
   "execution_count": 262,
   "metadata": {},
   "outputs": [],
   "source": [
    "res=\"\"\n",
    "for i in range(len(L1[5])):\n",
    "    \n",
    "    for j in range(N):\n",
    "        ShitedPosition=ord(L1[j][i])-baseI\n",
    "        _,ShiftBack=divmod(ShitedPosition-K[j],26)\n",
    "#         print(L1[j][i])\n",
    "#         print(\"原：%d\"%(ord(L1[j][i])-baseI))\n",
    "#         print(ShitedPosition-K[j])\n",
    "#         print(ShiftBack)\n",
    "        res+=chr(ShiftBack+ord('a'))\n",
    "    res+=\" \""
   ]
  },
  {
   "cell_type": "code",
   "execution_count": 263,
   "metadata": {},
   "outputs": [
    {
     "data": {
      "text/plain": [
       "'idcpvc evfdai ouyagj lsrtxw eskdyc tgdeee ejltis evddvp rgmbaw efgleh alqrld odwdyb udrxta ylftwf usptjd olyvid flftap ldqqci hwajfx cumcxt nlqdji hwdasd rslsgt idgzbr baxgdg pmswnx qktbsb dtiadq pkahvk pkumgh initki dqdidq xmvlrx rgplvl ccdprd ccshnu hswxmb dtpekr lswxnw wdgazo uedkld ibwbmj igtizw idggsk tmnhtg dtqedw wdlano tswbmj pfpbmw dfxodd bzgzhq detkqr gzcwsk tmnhtr gctksk topidu '"
      ]
     },
     "execution_count": 263,
     "metadata": {},
     "output_type": "execute_result"
    }
   ],
   "source": [
    "res"
   ]
  },
  {
   "cell_type": "code",
   "execution_count": 256,
   "metadata": {},
   "outputs": [
    {
     "data": {
      "text/plain": [
       "'KPGDQANTGDVEGTGDTBGLCRQDWXATWTQVHTNQJJECPDJATSKZDGRWSBFARHRMKTFIZLTLEPEHJXFENXYAWKKBKIKGVHFEYAVBRBFODZFKIWVHIKVI'"
      ]
     },
     "execution_count": 256,
     "metadata": {},
     "output_type": "execute_result"
    }
   ],
   "source": [
    "GetSubstring(0,3,CiPHER)"
   ]
  },
  {
   "cell_type": "code",
   "execution_count": 209,
   "metadata": {},
   "outputs": [
    {
     "name": "stdout",
     "output_type": "stream",
     "text": [
      "KGQNGVGGTGCQWAWQHNJEPJTKDRSFRRKFZTEEJFNYWKKKVFYVRFDFIVIV\n",
      "CUTRRFIUFEKCCKRKKCVTKVRCZLJSJJMPLFBBRSRCDAFCLSCREEYDYLBN\n",
      "CFYRKDLDMGQWRFPYFQAMQDLGXSTIAUIDVPDSWPWGDWTGNQLWPXGTCNTP\n",
      "PDATDETDBLRDXTTVTQJCDASZGWBAHMTILLPHXEXAKBIGHEABBOZKWHKI\n",
      "KPVMNTXKPTANILYXPRUMYHVQSCHSKVZSGKGCBZCOABOHISCBBSWFHIHS\n",
      "BHIVBDROVGCAZECCOHWSHCSQFWAPJGHPWKCTAQVNCIVJFVNIVCPQJQJT\n"
     ]
    },
    {
     "data": {
      "text/plain": [
       "['KGQNGVGGTGCQWAWQHNJEPJTKDRSFRRKFZTEEJFNYWKKKVFYVRFDFIVIV',\n",
       " 'CUTRRFIUFEKCCKRKKCVTKVRCZLJSJJMPLFBBRSRCDAFCLSCREEYDYLBN',\n",
       " 'CFYRKDLDMGQWRFPYFQAMQDLGXSTIAUIDVPDSWPWGDWTGNQLWPXGTCNTP',\n",
       " 'PDATDETDBLRDXTTVTQJCDASZGWBAHMTILLPHXEXAKBIGHEABBOZKWHKI',\n",
       " 'KPVMNTXKPTANILYXPRUMYHVQSCHSKVZSGKGCBZCOABOHISCBBSWFHIHS',\n",
       " 'BHIVBDROVGCAZECCOHWSHCSQFWAPJGHPWKCTAQVNCIVJFVNIVCPQJQJT']"
      ]
     },
     "execution_count": 209,
     "metadata": {},
     "output_type": "execute_result"
    }
   ],
   "source": [
    "Autodistribution(6,CiPHER)\n"
   ]
  },
  {
   "cell_type": "code",
   "execution_count": 241,
   "metadata": {},
   "outputs": [
    {
     "name": "stdout",
     "output_type": "stream",
     "text": [
      "KGQNGVGGTGCQWAWQHNJEPJTKDRSFRRKFZTEEJFNYWKKKVFYVRFDFIVIV\n",
      "CUTRRFIUFEKCCKRKKCVTKVRCZLJSJJMPLFBBRSRCDAFCLSCREEYDYLBN\n",
      "CFYRKDLDMGQWRFPYFQAMQDLGXSTIAUIDVPDSWPWGDWTGNQLWPXGTCNTP\n",
      "PDATDETDBLRDXTTVTQJCDASZGWBAHMTILLPHXEXAKBIGHEABBOZKWHKI\n",
      "KPVMNTXKPTANILYXPRUMYHVQSCHSKVZSGKGCBZCOABOHISCBBSWFHIHS\n",
      "BHIVBDROVGCAZECCOHWSHCSQFWAPJGHPWKCTAQVNCIVJFVNIVCPQJQJT\n",
      "['KGQNGVGGTGCQWAWQHNJEPJTKDRSFRRKFZTEEJFNYWKKKVFYVRFDFIVIV', 'CUTRRFIUFEKCCKRKKCVTKVRCZLJSJJMPLFBBRSRCDAFCLSCREEYDYLBN', 'CFYRKDLDMGQWRFPYFQAMQDLGXSTIAUIDVPDSWPWGDWTGNQLWPXGTCNTP', 'PDATDETDBLRDXTTVTQJCDASZGWBAHMTILLPHXEXAKBIGHEABBOZKWHKI', 'KPVMNTXKPTANILYXPRUMYHVQSCHSKVZSGKGCBZCOABOHISCBBSWFHIHS', 'BHIVBDROVGCAZECCOHWSHCSQFWAPJGHPWKCTAQVNCIVJFVNIVCPQJQJT']\n"
     ]
    }
   ],
   "source": [
    "L1=Autodistribution(6,CiPHER)\n",
    "print(L1)"
   ]
  },
  {
   "cell_type": "code",
   "execution_count": 193,
   "metadata": {},
   "outputs": [
    {
     "data": {
      "text/plain": [
       "(-1, 24)"
      ]
     },
     "execution_count": 193,
     "metadata": {},
     "output_type": "execute_result"
    }
   ],
   "source": [
    "divmod(1-3,26)"
   ]
  },
  {
   "cell_type": "code",
   "execution_count": 21,
   "metadata": {},
   "outputs": [
    {
     "data": {
      "text/plain": [
       "1"
      ]
     },
     "execution_count": 21,
     "metadata": {},
     "output_type": "execute_result"
    }
   ],
   "source": [
    "4//3"
   ]
  },
  {
   "cell_type": "code",
   "execution_count": 56,
   "metadata": {},
   "outputs": [],
   "source": [
    "p = [0.082,0.015,0.028,0.043,0.127,0.022,0.02,0.061,0.07,0.002,0.008,0.04,0.024,0.067,0.075,0.019,0.001,0.06,0.063,0.091,0.028,0.01,0.023,0.001,0.02]\n"
   ]
  },
  {
   "cell_type": "code",
   "execution_count": 57,
   "metadata": {},
   "outputs": [
    {
     "data": {
      "text/plain": [
       "1.0"
      ]
     },
     "execution_count": 57,
     "metadata": {},
     "output_type": "execute_result"
    }
   ],
   "source": [
    "sum(p)"
   ]
  },
  {
   "cell_type": "code",
   "execution_count": 59,
   "metadata": {},
   "outputs": [],
   "source": [
    "SUM=0\n",
    "for i in p:\n",
    "    SUM+=i*i"
   ]
  },
  {
   "cell_type": "code",
   "execution_count": 60,
   "metadata": {},
   "outputs": [
    {
     "data": {
      "text/plain": [
       "0.0656"
      ]
     },
     "execution_count": 60,
     "metadata": {},
     "output_type": "execute_result"
    }
   ],
   "source": [
    "SUM"
   ]
  },
  {
   "cell_type": "code",
   "execution_count": 110,
   "metadata": {},
   "outputs": [],
   "source": [
    "Q=\"sdfw\""
   ]
  },
  {
   "cell_type": "code",
   "execution_count": 128,
   "metadata": {},
   "outputs": [
    {
     "name": "stdout",
     "output_type": "stream",
     "text": [
      "0\n"
     ]
    },
    {
     "data": {
      "text/plain": [
       "'sw'"
      ]
     },
     "execution_count": 128,
     "metadata": {},
     "output_type": "execute_result"
    }
   ],
   "source": [
    "GetSubstring(0,3,Q)"
   ]
  },
  {
   "cell_type": "code",
   "execution_count": null,
   "metadata": {},
   "outputs": [],
   "source": []
  },
  {
   "cell_type": "code",
   "execution_count": null,
   "metadata": {},
   "outputs": [],
   "source": []
  }
 ],
 "metadata": {
  "kernelspec": {
   "display_name": "Python 3",
   "language": "python",
   "name": "python3"
  },
  "language_info": {
   "codemirror_mode": {
    "name": "ipython",
    "version": 3
   },
   "file_extension": ".py",
   "mimetype": "text/x-python",
   "name": "python",
   "nbconvert_exporter": "python",
   "pygments_lexer": "ipython3",
   "version": "3.7.3"
  }
 },
 "nbformat": 4,
 "nbformat_minor": 2
}
